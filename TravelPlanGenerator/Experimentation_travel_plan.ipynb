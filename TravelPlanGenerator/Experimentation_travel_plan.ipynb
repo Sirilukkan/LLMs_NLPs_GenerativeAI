{
 "cells": [
  {
   "cell_type": "markdown",
   "id": "62ddc416",
   "metadata": {},
   "source": [
    "**This jupyter notebook file is for testing out the code to generate travel plan to different places in different country countries**"
   ]
  },
  {
   "cell_type": "code",
   "execution_count": 1,
   "id": "12d44e78",
   "metadata": {},
   "outputs": [],
   "source": [
    "# Set up key from OpenAI API\n",
    "\n",
    "#Generate separate python file call sk that contain my OpenAI API Key called my_sk\n",
    "from sk import my_sk\n",
    "import os\n",
    "os.environ['OPENAI_API_KEY'] = my_sk"
   ]
  },
  {
   "cell_type": "code",
   "execution_count": 7,
   "id": "bb2662ef",
   "metadata": {},
   "outputs": [],
   "source": [
    "#import neccessary libraries\n",
    "#from langchain_community.llms import OpenAI \n",
    "from langchain_openai import OpenAI #You can use other opensource model from huggingface\n",
    "from langchain.prompts import PromptTemplate\n",
    "from langchain.chains import LLMChain\n",
    "from langchain.chains import SequentialChain"
   ]
  },
  {
   "cell_type": "code",
   "execution_count": 5,
   "id": "6d0602bc",
   "metadata": {},
   "outputs": [],
   "source": [
    "#pip install -U langchain-openai"
   ]
  },
  {
   "cell_type": "code",
   "execution_count": 3,
   "id": "8e34fdb5",
   "metadata": {},
   "outputs": [
    {
     "name": "stderr",
     "output_type": "stream",
     "text": [
      "/Users/siriluk/opt/anaconda3/lib/python3.9/site-packages/langchain_core/_api/deprecation.py:119: LangChainDeprecationWarning: The method `BaseLLM.__call__` was deprecated in langchain-core 0.1.7 and will be removed in 0.2.0. Use invoke instead.\n",
      "  warn_deprecated(\n"
     ]
    },
    {
     "name": "stdout",
     "output_type": "stream",
     "text": [
      "\n",
      "\n",
      "1. Tokyo: The bustling capital city of Japan, Tokyo is a must-visit for any traveler. It offers a unique blend of traditional culture and modern technology, with attractions such as the Tokyo Skytree, Meiji Shrine, and the bustling Shibuya district.\n",
      "\n",
      "2. Kyoto: Known for its numerous temples, shrines, and traditional gardens, Kyoto is a must-visit for those interested in Japanese history and culture. It is also home to the famous Kinkaku-ji (Golden Pavilion) and Fushimi Inari Shrine.\n",
      "\n",
      "3. Osaka: The food capital of Japan, Osaka is a must-visit for foodies. It is also home to attractions such as Osaka Castle, Universal Studios Japan, and the vibrant Dotonbori district.\n",
      "\n",
      "4. Nara: Known for its friendly deer and ancient temples, Nara is a charming city that offers a peaceful escape from the bustling cities of Tokyo and Osaka.\n",
      "\n",
      "5. Hiroshima: This city is known for its tragic history as the site of the atomic bombing during World War II. It is now a peaceful and modern city, with attractions such as the Hiroshima Peace Memorial Park and the Itsukushima Shrine on the nearby Miyajima island.\n",
      "\n",
      "6. Hokkaido: Japan's northern\n"
     ]
    }
   ],
   "source": [
    "#create llm model\n",
    "llm = OpenAI(temperature = 0.6)\n",
    "#testing the model\n",
    "response = llm(\"I want to travel to Japan. Suggest some best places to go visit.\")\n",
    "print(response)"
   ]
  },
  {
   "cell_type": "code",
   "execution_count": 4,
   "id": "9ff0c510",
   "metadata": {},
   "outputs": [
    {
     "name": "stdout",
     "output_type": "stream",
     "text": [
      "\n",
      "\n",
      "1. Ha Long Bay\n",
      "2. Hoi An\n",
      "3. Ho Chi Minh City\n",
      "4. Nha Trang\n",
      "5. Da Nang\n"
     ]
    }
   ],
   "source": [
    "response = llm(\"I want to travel to Vietnam. Suggest 5 most popular places to go visit. Do not give an explanation of each place\")\n",
    "print(response)"
   ]
  },
  {
   "cell_type": "markdown",
   "id": "eb81a589",
   "metadata": {},
   "source": [
    "## Prompt template"
   ]
  },
  {
   "cell_type": "code",
   "execution_count": 5,
   "id": "e7b5dff2",
   "metadata": {},
   "outputs": [
    {
     "data": {
      "text/plain": [
       "'I want to travel to Vietnam. Suggest 5 most popular places to go visit. Do not give an explanation of each place'"
      ]
     },
     "execution_count": 5,
     "metadata": {},
     "output_type": "execute_result"
    }
   ],
   "source": [
    "# generate a prompt template\n",
    "prompt_name = PromptTemplate(\n",
    "    name = \"places_to_visit\",\n",
    "    input_variables = ['country'],\n",
    "    template = \"I want to travel to {country}. Suggest 5 most popular places to go visit. Do not give an explanation of each place\"\n",
    ")\n",
    "prompt_name.format(country = \"Vietnam\")"
   ]
  },
  {
   "cell_type": "markdown",
   "id": "82188521",
   "metadata": {},
   "source": [
    "## Chain"
   ]
  },
  {
   "cell_type": "code",
   "execution_count": 6,
   "id": "514dbc24",
   "metadata": {},
   "outputs": [
    {
     "name": "stderr",
     "output_type": "stream",
     "text": [
      "/Users/siriluk/opt/anaconda3/lib/python3.9/site-packages/langchain_core/_api/deprecation.py:119: LangChainDeprecationWarning: The method `Chain.run` was deprecated in langchain 0.1.0 and will be removed in 0.2.0. Use invoke instead.\n",
      "  warn_deprecated(\n"
     ]
    },
    {
     "name": "stdout",
     "output_type": "stream",
     "text": [
      "\n",
      "\n",
      "1. Bangkok\n",
      "2. Phuket\n",
      "3. Chiang Mai\n",
      "4. Krabi\n",
      "5. Koh Samui\n"
     ]
    }
   ],
   "source": [
    "# Now using chain from langchain\n",
    "chain = LLMChain(llm = llm, prompt=prompt_name)\n",
    "places = chain.run(\"Thailand\") #run to get suggestion or answer\n",
    "print(places)"
   ]
  },
  {
   "cell_type": "markdown",
   "id": "d94e9428",
   "metadata": {},
   "source": [
    "## SequentialChain"
   ]
  },
  {
   "cell_type": "code",
   "execution_count": 30,
   "id": "dc143d27",
   "metadata": {},
   "outputs": [
    {
     "name": "stdout",
     "output_type": "stream",
     "text": [
      "\n",
      "\n",
      "1. Zurich\n",
      "2. Geneva\n",
      "3. Lucerne\n",
      "4. Interlaken\n",
      "5. Zermatt\n"
     ]
    }
   ],
   "source": [
    "# First prompt\n",
    "llm = OpenAI(temperature = 0.6)\n",
    "prompt_temp_places = PromptTemplate(\n",
    "    input_variables=['country'],\n",
    "    template=\"I want to travel to {country}. Suggest 5 most popular places to go visit. Do not give an explanation of each place\"\n",
    ")\n",
    "\n",
    "places_chain = LLMChain(llm=llm, prompt=prompt_temp_places, \n",
    "                        output_key=\"places_name\")\n",
    "print(places_chain.run('Switzerland'))"
   ]
  },
  {
   "cell_type": "code",
   "execution_count": 36,
   "id": "75318764",
   "metadata": {},
   "outputs": [
    {
     "name": "stdout",
     "output_type": "stream",
     "text": [
      " district\n",
      "\n",
      "District 1 (Altstadt): \n",
      "1. Grossmünster Church - a historic landmark and one of the most famous churches in Zurich\n",
      "2. Bahnhofstrasse - a popular shopping street with luxury stores and cafes\n",
      "3. Fraumünster Church - known for its stunning stained glass windows by artist Marc Chagall\n",
      "4. Restaurant Zeughauskeller - a traditional Swiss restaurant with a cozy atmosphere and hearty dishes\n",
      "5. Lindenhof Hill - a scenic spot with views of the city and the Limmat River\n",
      "\n",
      "District 2 (Enge): \n",
      "1. Lake Zurich - a popular spot for swimming, boating, and picnicking\n",
      "2. Rote Fabrik - a cultural center with concerts, exhibitions, and a lakeside restaurant\n",
      "3. Restaurant Seerose - a lakeside restaurant with a beautiful terrace and delicious Swiss cuisine\n",
      "4. My Kitchen - a trendy restaurant serving international fusion cuisine\n",
      "5. Enge Church - a beautiful Neo-Gothic church with a distinctive red brick facade\n",
      "\n",
      "District 3 (Wiedikon): \n",
      "1. Langstrasse - a lively street with bars, restaurants, and street art\n",
      "2. Wiedikon Farmers Market - a popular market with fresh produce,\n"
     ]
    }
   ],
   "source": [
    "# Second prompt\n",
    "promp_temp_spots = PromptTemplate(\n",
    "    input_variables=['places_name'],\n",
    "    template=\"Suggest popular spots and popular restaurants for each {places_name}\"\n",
    ")\n",
    "\n",
    "spots_food_chain = LLMChain(llm=llm, prompt=promp_temp_spots,\n",
    "                                  output_key=\"spot_food_places\")\n",
    "\n",
    "print(spots_food_chain.run('Zurich'))"
   ]
  },
  {
   "cell_type": "code",
   "execution_count": 37,
   "id": "3d1e3502",
   "metadata": {},
   "outputs": [
    {
     "name": "stdout",
     "output_type": "stream",
     "text": [
      "\n",
      "Day 1:\n",
      "- Arrive in Zurich and check into hotel\n",
      "- Take a walk around the Old Town to see historic landmarks such as Grossmünster Church and Fraumünster Church\n",
      "- Have lunch at Zeughauskeller, a popular Swiss restaurant known for its traditional cuisine\n",
      "- Spend the afternoon at Lake Zurich, taking a boat ride and enjoying the views\n",
      "- In the evening, head to Langstrasse for a lively nightlife scene and try some local beers at a bar\n",
      "\n",
      "Day 2:\n",
      "- Start the day with a visit to the Swiss National Museum to learn about the country's history and culture\n",
      "- Have lunch at Hiltl, the world's oldest vegetarian restaurant\n",
      "- Spend the afternoon at Zurich Zoo, home to over 380 different species\n",
      "- In the evening, head to the trendy district of Kreis 5 for dinner at Frau Gerolds Garten, a popular outdoor restaurant with a unique atmosphere\n",
      "\n",
      "Day 3:\n",
      "- Take a day trip to Mount Rigi, known as the \"Queen of the Mountains\" for its stunning views of the Swiss Alps\n",
      "- Have lunch at one of the restaurants at Rigi Kulm, the highest peak of Mount Rigi\n",
      "- On the way back, stop at the Lindt\n"
     ]
    }
   ],
   "source": [
    "# third prompt\n",
    "promp_temp_plan = PromptTemplate(\n",
    "    input_variables=['spot_food_places'],\n",
    "    template='''\n",
    "        create a plan for one week to visit popular spots and popular restaurants in {spot_food_places}. \n",
    "        '''\n",
    ")\n",
    "plan_chain = LLMChain(llm=llm, prompt=promp_temp_plan,\n",
    "                                  output_key=\"one_week_plan\")\n",
    "\n",
    "print(plan_chain.run('Zurich'))"
   ]
  },
  {
   "cell_type": "markdown",
   "id": "53303219",
   "metadata": {},
   "source": [
    "## Put the above in SequenctialChains"
   ]
  },
  {
   "cell_type": "code",
   "execution_count": 43,
   "id": "7c167e00",
   "metadata": {},
   "outputs": [
    {
     "data": {
      "text/plain": [
       "{'country': 'Thailand',\n",
       " 'places_name': '\\n\\n1. Bangkok\\n2. Phuket\\n3. Chiang Mai\\n4. Krabi\\n5. Koh Samui',\n",
       " 'spot_food_places': '\\n\\n1. Bangkok:\\n- Grand Palace\\n- Wat Phra Kaew (Temple of the Emerald Buddha)\\n- Chatuchak Weekend Market\\n- Khao San Road\\n- Wat Arun (Temple of Dawn)\\n- Chinatown\\n- Siam Paragon Shopping Mall\\n- Lumpini Park\\n- MBK Center\\n- Asiatique The Riverfront\\n\\nPopular restaurants:\\n- Gaggan (Innovative Indian cuisine)\\n- Nahm (Michelin-starred Thai cuisine)\\n- Jay Fai (Street food, especially crab omelette)\\n- Issaya Siamese Club (Upscale Thai fusion)\\n- Somtum Der (Authentic Isaan cuisine)\\n- Supanniga Eating Room (Traditional Thai dishes with a modern twist)\\n- Thip Samai (Pad Thai)\\n- Baan Khanitha (Fine dining Thai cuisine)\\n- Blue Elephant (Royal Thai cuisine)\\n- Bo.Lan (Sustainable farm-to-table Thai dishes)\\n\\n2. Phuket:\\n- Patong Beach\\n- Phang Nga Bay\\n- Big Buddha Phuket\\n- Kata Beach\\n- Phi Phi Islands\\n- Old Phuket Town\\n- Bangla Road (nightlife)\\n- Wat Chalong\\n- Karon Beach\\n',\n",
       " 'one_week_plan': '- Nai Harn Beach\\n         \\nPopular restaurants:\\n- Black Ginger (Romantic Thai dining on a floating platform)\\n- Kan Eang @ Pier (Fresh seafood with ocean views)\\n- Blue Elephant Phuket (Royal Thai cuisine)\\n- Ka Jok See (Fun and lively atmosphere with delicious Thai food)\\n- Raya (Authentic Southern Thai cuisine)\\n- Suay Restaurant (Modern Thai fusion)\\n- Mor Mu Dong (Local restaurant with delicious seafood)\\n- Baan Rim Pa (Fine dining with stunning ocean views)\\n- La Gritta (Italian fine dining with ocean views)\\n- Acqua Restaurant (Michelin-starred Italian cuisine)'}"
      ]
     },
     "execution_count": 43,
     "metadata": {},
     "output_type": "execute_result"
    }
   ],
   "source": [
    "chain = SequentialChain(\n",
    "    chains=[places_chain, spots_food_chain, plan_chain],\n",
    "    input_variables=['country'],\n",
    "    output_variables=['places_name', 'spot_food_places', 'one_week_plan']\n",
    ")\n",
    "\n",
    "\n",
    "chain({'country':'Thailand'})"
   ]
  },
  {
   "cell_type": "code",
   "execution_count": null,
   "id": "81d9e48c",
   "metadata": {},
   "outputs": [],
   "source": []
  }
 ],
 "metadata": {
  "kernelspec": {
   "display_name": "Python 3 (ipykernel)",
   "language": "python",
   "name": "python3"
  },
  "language_info": {
   "codemirror_mode": {
    "name": "ipython",
    "version": 3
   },
   "file_extension": ".py",
   "mimetype": "text/x-python",
   "name": "python",
   "nbconvert_exporter": "python",
   "pygments_lexer": "ipython3",
   "version": "3.9.13"
  }
 },
 "nbformat": 4,
 "nbformat_minor": 5
}
